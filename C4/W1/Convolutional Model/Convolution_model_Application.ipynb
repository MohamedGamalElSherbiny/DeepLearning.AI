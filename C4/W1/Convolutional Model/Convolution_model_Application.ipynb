{
 "cells": [
  {
   "cell_type": "markdown",
   "metadata": {},
   "source": [
    "# Convolutional Neural Networks: Application\n",
    "\n",
    "Welcome to Course 4's second assignment! In this notebook, you will:\n",
    "\n",
    "- Create a mood classifer using the TF Keras Sequential API\n",
    "- Build a ConvNet to identify sign language digits using the TF Keras Functional API\n",
    "\n",
    "**After this assignment you will be able to:**\n",
    "\n",
    "- Build and train a ConvNet in TensorFlow for a __binary__ classification problem\n",
    "- Build and train a ConvNet in TensorFlow for a __multiclass__ classification problem\n",
    "- Explain different use cases for the Sequential and Functional APIs\n",
    "\n",
    "To complete this assignment, you should already be familiar with TensorFlow. If you are not, please refer back to the **TensorFlow Tutorial** of the third week of Course 2 (\"**Improving deep neural networks**\")."
   ]
  },
  {
   "cell_type": "markdown",
   "metadata": {},
   "source": [
    "## Table of Contents\n",
    "\n",
    "- [1 - Packages](#1)\n",
    "    - [1.1 - Load the Data and Split the Data into Train/Test Sets](#1-1)\n",
    "- [2 - Layers in TF Keras](#2)\n",
    "- [3 - The Sequential API](#3)\n",
    "    - [3.1 - Create the Sequential Model](#3-1)\n",
    "        - [Exercise 1 - happyModel](#ex-1)\n",
    "    - [3.2 - Train and Evaluate the Model](#3-2)\n",
    "- [4 - The Functional API](#4)\n",
    "    - [4.1 - Load the SIGNS Dataset](#4-1)\n",
    "    - [4.2 - Split the Data into Train/Test Sets](#4-2)\n",
    "    - [4.3 - Forward Propagation](#4-3)\n",
    "        - [Exercise 2 - convolutional_model](#ex-2)\n",
    "    - [4.4 - Train the Model](#4-4)\n",
    "- [5 - History Object](#5)\n",
    "- [6 - Bibliography](#6)"
   ]
  },
  {
   "cell_type": "markdown",
   "metadata": {},
   "source": [
    "<a name='1'></a>\n",
    "## 1 - Packages\n",
    "\n",
    "As usual, begin by loading in the packages."
   ]
  },
  {
   "cell_type": "code",
   "execution_count": 1,
   "metadata": {},
   "outputs": [],
   "source": [
    "import math\n",
    "import numpy as np\n",
    "import h5py\n",
    "import matplotlib.pyplot as plt\n",
    "from matplotlib.pyplot import imread\n",
    "import scipy\n",
    "from PIL import Image\n",
    "import pandas as pd\n",
    "import tensorflow as tf\n",
    "import tensorflow.keras.layers as tfl\n",
    "from tensorflow.python.framework import ops\n",
    "from cnn_utils import *\n",
    "from test_utils import summary, comparator\n",
    "\n",
    "%matplotlib inline\n",
    "np.random.seed(1)"
   ]
  },
  {
   "cell_type": "markdown",
   "metadata": {},
   "source": [
    "<a name='1-1'></a>\n",
    "### 1.1 - Load the Data and Split the Data into Train/Test Sets\n",
    "\n",
    "You'll be using the Happy House dataset for this part of the assignment, which contains images of peoples' faces. Your task will be to build a ConvNet that determines whether the people in the images are smiling or not -- because they only get to enter the house if they're smiling!  "
   ]
  },
  {
   "cell_type": "code",
   "execution_count": 2,
   "metadata": {},
   "outputs": [
    {
     "name": "stdout",
     "output_type": "stream",
     "text": [
      "number of training examples = 600\n",
      "number of test examples = 150\n",
      "X_train shape: (600, 64, 64, 3)\n",
      "Y_train shape: (600, 1)\n",
      "X_test shape: (150, 64, 64, 3)\n",
      "Y_test shape: (150, 1)\n"
     ]
    }
   ],
   "source": [
    "X_train_orig, Y_train_orig, X_test_orig, Y_test_orig, classes = load_happy_dataset()\n",
    "\n",
    "# Normalize image vectors\n",
    "X_train = X_train_orig/255.\n",
    "X_test = X_test_orig/255.\n",
    "\n",
    "# Reshape\n",
    "Y_train = Y_train_orig.T\n",
    "Y_test = Y_test_orig.T\n",
    "\n",
    "print (\"number of training examples = \" + str(X_train.shape[0]))\n",
    "print (\"number of test examples = \" + str(X_test.shape[0]))\n",
    "print (\"X_train shape: \" + str(X_train.shape))\n",
    "print (\"Y_train shape: \" + str(Y_train.shape))\n",
    "print (\"X_test shape: \" + str(X_test.shape))\n",
    "print (\"Y_test shape: \" + str(Y_test.shape))"
   ]
  },
  {
   "cell_type": "markdown",
   "metadata": {},
   "source": [
    "You can display the images contained in the dataset. Images are **64x64** pixels in RGB format (3 channels)."
   ]
  },
  {
   "cell_type": "code",
   "execution_count": 3,
   "metadata": {},
   "outputs": [
    {
     "data": {
      "image/png": "[encoded data removed]",
      "text/plain": [
       "<Figure size 432x288 with 1 Axes>"
      ]
     },
     "metadata": {
      "needs_background": "light"
     },
     "output_type": "display_data"
    }
   ],
   "source": [
    "index = 124\n",
    "plt.imshow(X_train_orig[index]) #display sample training image\n",
    "plt.show()"
   ]
  },
  {
   "cell_type": "markdown",
   "metadata": {},
   "source": [
    "<a name='2'></a>\n",
    "## 2 - Layers in TF Keras \n",
    "\n",
    "In the previous assignment, you created layers manually in numpy. In TF Keras, you don't have to write code directly to create layers. Rather, TF Keras has pre-defined layers you can use. \n",
    "\n",
    "When you create a layer in TF Keras, you are creating a function that takes some input and transforms it into an output you can reuse later. Nice and easy! "
   ]
  },
  {
   "cell_type": "markdown",
   "metadata": {},
   "source": [
    "<a name='3'></a>\n",
    "## 3 - The Sequential API\n",
    "\n",
    "In the previous assignment, you built helper functions using `numpy` to understand the mechanics behind convolutional neural networks. Most practical applications of deep learning today are built using programming frameworks, which have many built-in functions you can simply call. Keras is a high-level abstraction built on top of TensorFlow, which allows for even more simplified and optimized model creation and training. \n",
    "\n",
    "For the first part of this assignment, you'll create a model using TF Keras' Sequential API, which allows you to build layer by layer, and is ideal for building models where each layer has **exactly one** input tensor and **one** output tensor. \n",
    "\n",
    "As you'll see, using the Sequential API is simple and straightforward, but is only appropriate for simpler, more straightforward tasks. Later in this notebook you'll spend some time building with a more flexible, powerful alternative: the Functional API. \n",
    " "
   ]
  },
  {
   "cell_type": "markdown",
   "metadata": {},
   "source": [
    "<a name='3-1'></a>\n",
    "### 3.1 - Create the Sequential Model\n",
    "\n",
    "As mentioned earlier, the TensorFlow Keras Sequential API can be used to build simple models with layer operations that proceed in a sequential order. \n",
    "\n",
    "You can also add layers incrementally to a Sequential model with the `.add()` method, or remove them using the `.pop()` method, much like you would in a regular Python list.\n",
    "\n",
    "Actually, you can think of a Sequential model as behaving like a list of layers. Like Python lists, Sequential layers are ordered, and the order in which they are specified matters.  If your model is non-linear or contains layers with multiple inputs or outputs, a Sequential model wouldn't be the right choice!\n",
    "\n",
    "For any layer construction in Keras, you'll need to specify the input shape in advance. This is because in Keras, the shape of the weights is based on the shape of the inputs. The weights are only created when the model first sees some input data. Sequential models can be created by passing a list of layers to the Sequential constructor, like you will do in the next assignment.\n",
    "\n",
    "<a name='ex-1'></a>\n",
    "### Exercise 1 - happyModel\n",
    "\n",
    "Implement the `happyModel` function below to build the following model: `ZEROPAD2D -> CONV2D -> BATCHNORM -> RELU -> MAXPOOL -> FLATTEN -> DENSE`. Take help from [tf.keras.layers](https://www.tensorflow.org/api_docs/python/tf/keras/layers) \n",
    "\n",
    "Also, plug in the following parameters for all the steps:\n",
    "\n",
    " - [ZeroPadding2D](https://www.tensorflow.org/api_docs/python/tf/keras/layers/ZeroPadding2D): padding 3, input shape 64 x 64 x 3\n",
    " - [Conv2D](https://www.tensorflow.org/api_docs/python/tf/keras/layers/Conv2D): Use 32 7x7 filters, stride 1\n",
    " - [BatchNormalization](https://www.tensorflow.org/api_docs/python/tf/keras/layers/BatchNormalization): for axis 3\n",
    " - [ReLU](https://www.tensorflow.org/api_docs/python/tf/keras/layers/ReLU)\n",
    " - [MaxPool2D](https://www.tensorflow.org/api_docs/python/tf/keras/layers/MaxPool2D): Using default parameters\n",
    " - [Flatten](https://www.tensorflow.org/api_docs/python/tf/keras/layers/Flatten) the previous output.\n",
    " - Fully-connected ([Dense](https://www.tensorflow.org/api_docs/python/tf/keras/layers/Dense)) layer: Apply a fully connected layer with 1 neuron and a sigmoid activation. \n",
    " \n",
    " \n",
    " **Hint:**\n",
    " \n",
    " Use **tfl** as shorthand for **tensorflow.keras.layers**"
   ]
  },
  {
   "cell_type": "code",
   "execution_count": 10,
   "metadata": {
    "deletable": false,
    "nbgrader": {
     "cell_type": "code",
     "checksum": "95d28b191f257bdd5b70c7b8952559d5",
     "grade": false,
     "grade_id": "cell-0e56d3fc28b69aec",
     "locked": false,
     "schema_version": 3,
     "solution": true,
     "task": false
    }
   },
   "outputs": [],
   "source": [
    "# GRADED FUNCTION: happyModel\n",
    "\n",
    "def happyModel():\n",
    "    \"\"\"\n",
    "    Implements the forward propagation for the binary classification model:\n",
    "    ZEROPAD2D -> CONV2D -> BATCHNORM -> RELU -> MAXPOOL -> FLATTEN -> DENSE\n",
    "    \n",
    "    Note that for simplicity and grading purposes, you'll hard-code all the values\n",
    "    such as the stride and kernel (filter) sizes. \n",
    "    Normally, functions should take these values as function parameters.\n",
    "    \n",
    "    Arguments:\n",
    "    None\n",
    "\n",
    "    Returns:\n",
    "    model -- TF Keras model (object containing the information for the entire training process) \n",
    "    \"\"\"\n",
    "    model = tf.keras.Sequential([\n",
    "            # YOUR CODE STARTS HERE\n",
    "            ## ZeroPadding2D with padding 3, input shape of 64 x 64 x 3\n",
    "            tf.keras.layers.ZeroPadding2D(padding=3, input_shape=(64,64,3)),\n",
    "            ## Conv2D with 32 7x7 filters and stride of 1\n",
    "            tf.keras.layers.Conv2D(32, (7,7)),\n",
    "            ## BatchNormalization for axis 3\n",
    "            tf.keras.layers.BatchNormalization(axis=3),\n",
    "            ## ReLU\n",
    "            tf.keras.layers.ReLU(),\n",
    "            ## Max Pooling 2D with default parameters\n",
    "            tf.keras.layers.MaxPool2D(),\n",
    "            ## Flatten layer\n",
    "            tf.keras.layers.Flatten(),\n",
    "            ## Dense layer with 1 unit for output & 'sigmoid' activation\n",
    "            tf.keras.layers.Dense(1, activation='sigmoid')\n",
    "            # YOUR CODE ENDS HERE\n",
    "        ])\n",
    "    \n",
    "    return model"
   ]
  },
  {
   "cell_type": "code",
   "execution_count": 11,
   "metadata": {
    "deletable": false,
    "editable": false,
    "nbgrader": {
     "cell_type": "code",
     "checksum": "8d3575c950e2e78149be2d05d671c80d",
     "grade": true,
     "grade_id": "cell-e3e1046e5c33d775",
     "locked": true,
     "points": 10,
     "schema_version": 3,
     "solution": false,
     "task": false
    }
   },
   "outputs": [
    {
     "name": "stdout",
     "output_type": "stream",
     "text": [
      "['ZeroPadding2D', (None, 70, 70, 3), 0, ((3, 3), (3, 3))]\n",
      "['Conv2D', (None, 64, 64, 32), 4736, 'valid', 'linear', 'GlorotUniform']\n",
      "['BatchNormalization', (None, 64, 64, 32), 128]\n",
      "['ReLU', (None, 64, 64, 32), 0]\n",
      "['MaxPooling2D', (None, 32, 32, 32), 0, (2, 2), (2, 2), 'valid']\n",
      "['Flatten', (None, 32768), 0]\n",
      "['Dense', (None, 1), 32769, 'sigmoid']\n",
      "\u001b[32mAll tests passed!\u001b[0m\n"
     ]
    }
   ],
   "source": [
    "happy_model = happyModel()\n",
    "# Print a summary for each layer\n",
    "for layer in summary(happy_model):\n",
    "    print(layer)\n",
    "    \n",
    "output = [['ZeroPadding2D', (None, 70, 70, 3), 0, ((3, 3), (3, 3))],\n",
    "            ['Conv2D', (None, 64, 64, 32), 4736, 'valid', 'linear', 'GlorotUniform'],\n",
    "            ['BatchNormalization', (None, 64, 64, 32), 128],\n",
    "            ['ReLU', (None, 64, 64, 32), 0],\n",
    "            ['MaxPooling2D', (None, 32, 32, 32), 0, (2, 2), (2, 2), 'valid'],\n",
    "            ['Flatten', (None, 32768), 0],\n",
    "            ['Dense', (None, 1), 32769, 'sigmoid']]\n",
    "    \n",
    "comparator(summary(happy_model), output)"
   ]
  },
  {
   "cell_type": "markdown",
   "metadata": {},
   "source": [
    "Now that your model is created, you can compile it for training with an optimizer and loss of your choice. When the string `accuracy` is specified as a metric, the type of accuracy used will be automatically converted based on the loss function used. This is one of the many optimizations built into TensorFlow that make your life easier! If you'd like to read more on how the compiler operates, check the docs [here](https://www.tensorflow.org/api_docs/python/tf/keras/Model#compile)."
   ]
  },
  {
   "cell_type": "code",
   "execution_count": 12,
   "metadata": {},
   "outputs": [],
   "source": [
    "happy_model.compile(optimizer='adam',\n",
    "                   loss='binary_crossentropy',\n",
    "                   metrics=['accuracy'])"
   ]
  },
  {
   "cell_type": "markdown",
   "metadata": {},
   "source": [
    "It's time to check your model's parameters with the `.summary()` method. This will display the types of layers you have, the shape of the outputs, and how many parameters are in each layer. "
   ]
  },
  {
   "cell_type": "code",
   "execution_count": 13,
   "metadata": {},
   "outputs": [
    {
     "name": "stdout",
     "output_type": "stream",
     "text": [
      "Model: \"sequential\"\n",
      "_________________________________________________________________\n",
      "Layer (type)                 Output Shape              Param #   \n",
      "=================================================================\n",
      "zero_padding2d_3 (ZeroPaddin (None, 70, 70, 3)         0         \n",
      "_________________________________________________________________\n",
      "conv2d_2 (Conv2D)            (None, 64, 64, 32)        4736      \n",
      "_________________________________________________________________\n",
      "batch_normalization_2 (Batch (None, 64, 64, 32)        128       \n",
      "_________________________________________________________________\n",
      "re_lu_2 (ReLU)               (None, 64, 64, 32)        0         \n",
      "_________________________________________________________________\n",
      "max_pooling2d_1 (MaxPooling2 (None, 32, 32, 32)        0         \n",
      "_________________________________________________________________\n",
      "flatten (Flatten)            (None, 32768)             0         \n",
      "_________________________________________________________________\n",
      "dense (Dense)                (None, 1)                 32769     \n",
      "=================================================================\n",
      "Total params: 37,633\n",
      "Trainable params: 37,569\n",
      "Non-trainable params: 64\n",
      "_________________________________________________________________\n"
     ]
    }
   ],
   "source": [
    "happy_model.summary()"
   ]
  },
  {
   "cell_type": "markdown",
   "metadata": {},
   "source": [
    "<a name='3-2'></a>\n",
    "### 3.2 - Train and Evaluate the Model\n",
    "\n",
    "After creating the model, compiling it with your choice of optimizer and loss function, and doing a sanity check on its contents, you are now ready to build! \n",
    "\n",
    "Simply call `.fit()` to train. That's it! No need for mini-batching, saving, or complex backpropagation computations. That's all been done for you, as you're using a TensorFlow dataset with the batches specified already. You do have the option to specify epoch number or minibatch size if you like (for example, in the case of an un-batched dataset)."
   ]
  },
  {
   "cell_type": "code",
   "execution_count": 14,
   "metadata": {},
   "outputs": [
    {
     "name": "stdout",
     "output_type": "stream",
     "text": [
      "Epoch 1/10\n",
      "38/38 [==============================] - 4s 98ms/step - loss: 2.0956 - accuracy: 0.6383\n",
      "Epoch 2/10\n",
      "38/38 [==============================] - 4s 95ms/step - loss: 0.4360 - accuracy: 0.8450\n",
      "Epoch 3/10\n",
      "38/38 [==============================] - 4s 95ms/step - loss: 0.1804 - accuracy: 0.9217\n",
      "Epoch 4/10\n",
      "38/38 [==============================] - 4s 94ms/step - loss: 0.1305 - accuracy: 0.9583\n",
      "Epoch 5/10\n",
      "38/38 [==============================] - 4s 95ms/step - loss: 0.1499 - accuracy: 0.9367\n",
      "Epoch 6/10\n",
      "38/38 [==============================] - 4s 95ms/step - loss: 0.1011 - accuracy: 0.9667\n",
      "Epoch 7/10\n",
      "38/38 [==============================] - 4s 95ms/step - loss: 0.0993 - accuracy: 0.9650\n",
      "Epoch 8/10\n",
      "38/38 [==============================] - 4s 95ms/step - loss: 0.0792 - accuracy: 0.9783\n",
      "Epoch 9/10\n",
      "38/38 [==============================] - 4s 95ms/step - loss: 0.1495 - accuracy: 0.9500\n",
      "Epoch 10/10\n",
      "38/38 [==============================] - 4s 94ms/step - loss: 0.0732 - accuracy: 0.9767\n"
     ]
    },
    {
     "data": {
      "text/plain": [
       "<tensorflow.python.keras.callbacks.History at 0x7fb2b49b2a10>"
      ]
     },
     "execution_count": 14,
     "metadata": {},
     "output_type": "execute_result"
    }
   ],
   "source": [
    "happy_model.fit(X_train, Y_train, epochs=10, batch_size=16)"
   ]
  },
  {
   "cell_type": "markdown",
   "metadata": {},
   "source": [
    "After that completes, just use `.evaluate()` to evaluate against your test set. This function will print the value of the loss function and the performance metrics specified during the compilation of the model. In this case, the `binary_crossentropy` and the `accuracy` respectively."
   ]
  },
  {
   "cell_type": "code",
   "execution_count": 15,
   "metadata": {},
   "outputs": [
    {
     "name": "stdout",
     "output_type": "stream",
     "text": [
      "5/5 [==============================] - 0s 33ms/step - loss: 0.1415 - accuracy: 0.9667\n"
     ]
    },
    {
     "data": {
      "text/plain": [
       "[0.14151282608509064, 0.9666666388511658]"
      ]
     },
     "execution_count": 15,
     "metadata": {},
     "output_type": "execute_result"
    }
   ],
   "source": [
    "happy_model.evaluate(X_test, Y_test)"
   ]
  },
  {
   "cell_type": "markdown",
   "metadata": {},
   "source": [
    "Easy, right? But what if you need to build a model with shared layers, branches, or multiple inputs and outputs? This is where Sequential, with its beautifully simple yet limited functionality, won't be able to help you. \n",
    "\n",
    "Next up: Enter the Functional API, your slightly more complex, highly flexible friend.  "
   ]
  },
  {
   "cell_type": "markdown",
   "metadata": {},
   "source": [
    "<a name='4'></a>\n",
    "## 4 - The Functional API"
   ]
  },
  {
   "cell_type": "markdown",
   "metadata": {},
   "source": [
    "Welcome to the second half of the assignment, where you'll use Keras' flexible [Functional API](https://www.tensorflow.org/guide/keras/functional) to build a ConvNet that can differentiate between 6 sign language digits. \n",
    "\n",
    "The Functional API can handle models with non-linear topology, shared layers, as well as layers with multiple inputs or outputs. Imagine that, where the Sequential API requires the model to move in a linear fashion through its layers, the Functional API allows much more flexibility. Where Sequential is a straight line, a Functional model is a graph, where the nodes of the layers can connect in many more ways than one. \n",
    "\n",
    "In the visual example below, the one possible direction of the movement Sequential model is shown in contrast to a skip connection, which is just one of the many ways a Functional model can be constructed. A skip connection, as you might have guessed, skips some layer in the network and feeds the output to a later layer in the network. Don't worry, you'll be spending more time with skip connections very soon! "
   ]
  },
  {
   "cell_type": "markdown",
   "metadata": {},
   "source": [
    "<img src=\"images/seq_vs_func.png\" style=\"width:350px;height:200px;\">"
   ]
  },
  {
   "cell_type": "markdown",
   "metadata": {},
   "source": [
    "<a name='4-1'></a>\n",
    "### 4.1 - Load the SIGNS Dataset\n",
    "\n",
    "As a reminder, the SIGNS dataset is a collection of 6 signs representing numbers from 0 to 5."
   ]
  },
  {
   "cell_type": "code",
   "execution_count": null,
   "metadata": {},
   "outputs": [],
   "source": [
    "# Loading the data (signs)\n",
    "X_train_orig, Y_train_orig, X_test_orig, Y_test_orig, classes = load_signs_dataset()"
   ]
  },
  {
   "cell_type": "markdown",
   "metadata": {},
   "source": [
    "<img src=\"images/SIGNS.png\" style=\"width:800px;height:300px;\">\n",
    "\n",
    "The next cell will show you an example of a labelled image in the dataset. Feel free to change the value of `index` below and re-run to see different examples. "
   ]
  },
  {
   "cell_type": "code",
   "execution_count": 16,
   "metadata": {},
   "outputs": [
    {
     "name": "stdout",
     "output_type": "stream",
     "text": [
      "y = 1\n"
     ]
    },
    {
     "data": {
      "image/png": "[encoded data removed]",
      "text/plain": [
       "<Figure size 432x288 with 1 Axes>"
      ]
     },
     "metadata": {
      "needs_background": "light"
     },
     "output_type": "display_data"
    }
   ],
   "source": [
    "# Example of an image from the dataset\n",
    "index = 9\n",
    "plt.imshow(X_train_orig[index])\n",
    "print (\"y = \" + str(np.squeeze(Y_train_orig[:, index])))"
   ]
  },
  {
   "cell_type": "markdown",
   "metadata": {},
   "source": [
    "<a name='4-2'></a>\n",
    "### 4.2 - Split the Data into Train/Test Sets\n",
    "\n",
    "In Course 2, you built a fully-connected network for this dataset. But since this is an image dataset, it is more natural to apply a ConvNet to it.\n",
    "\n",
    "To get started, let's examine the shapes of your data. "
   ]
  },
  {
   "cell_type": "code",
   "execution_count": 17,
   "metadata": {},
   "outputs": [
    {
     "name": "stdout",
     "output_type": "stream",
     "text": [
      "number of training examples = 600\n",
      "number of test examples = 150\n",
      "X_train shape: (600, 64, 64, 3)\n",
      "Y_train shape: (600, 6)\n",
      "X_test shape: (150, 64, 64, 3)\n",
      "Y_test shape: (150, 6)\n"
     ]
    }
   ],
   "source": [
    "X_train = X_train_orig/255.\n",
    "X_test = X_test_orig/255.\n",
    "Y_train = convert_to_one_hot(Y_train_orig, 6).T\n",
    "Y_test = convert_to_one_hot(Y_test_orig, 6).T\n",
    "print (\"number of training examples = \" + str(X_train.shape[0]))\n",
    "print (\"number of test examples = \" + str(X_test.shape[0]))\n",
    "print (\"X_train shape: \" + str(X_train.shape))\n",
    "print (\"Y_train shape: \" + str(Y_train.shape))\n",
    "print (\"X_test shape: \" + str(X_test.shape))\n",
    "print (\"Y_test shape: \" + str(Y_test.shape))"
   ]
  },
  {
   "cell_type": "markdown",
   "metadata": {},
   "source": [
    "<a name='4-3'></a>\n",
    "### 4.3 - Forward Propagation\n",
    "\n",
    "In TensorFlow, there are built-in functions that implement the convolution steps for you. By now, you should be familiar with how TensorFlow builds computational graphs. In the [Functional API](https://www.tensorflow.org/guide/keras/functional), you create a graph of layers. This is what allows such great flexibility.\n",
    "\n",
    "However, the following model could also be defined using the Sequential API since the information flow is on a single line. But don't deviate. What we want you to learn is to use the functional API.\n",
    "\n",
    "Begin building your graph of layers by creating an input node that functions as a callable object:\n",
    "\n",
    "- **input_img = tf.keras.Input(shape=input_shape):** \n",
    "\n",
    "Then, create a new node in the graph of layers by calling a layer on the `input_img` object: \n",
    "\n",
    "- **tf.keras.layers.Conv2D(filters= ... , kernel_size= ... , padding='same')(input_img):** Read the full documentation on [Conv2D](https://www.tensorflow.org/api_docs/python/tf/keras/layers/Conv2D).\n",
    "\n",
    "- **tf.keras.layers.MaxPool2D(pool_size=(f, f), strides=(s, s), padding='same'):** `MaxPool2D()` downsamples your input using a window of size (f, f) and strides of size (s, s) to carry out max pooling over each window.  For max pooling, you usually operate on a single example at a time and a single channel at a time. Read the full documentation on [MaxPool2D](https://www.tensorflow.org/api_docs/python/tf/keras/layers/MaxPool2D).\n",
    "\n",
    "- **tf.keras.layers.ReLU():** computes the elementwise ReLU of Z (which can be any shape). You can read the full documentation on [ReLU](https://www.tensorflow.org/api_docs/python/tf/keras/layers/ReLU).\n",
    "\n",
    "- **tf.keras.layers.Flatten()**: given a tensor \"P\", this function takes each training (or test) example in the batch and flattens it into a 1D vector.  \n",
    "\n",
    "    * If a tensor P has the shape (batch_size,h,w,c), it returns a flattened tensor with shape (batch_size, k), where $k=h \\times w \\times c$.  \"k\" equals the product of all the dimension sizes other than the first dimension.\n",
    "    \n",
    "    * For example, given a tensor with dimensions [100, 2, 3, 4], it flattens the tensor to be of shape [100, 24], where 24 = 2 * 3 * 4.  You can read the full documentation on [Flatten](https://www.tensorflow.org/api_docs/python/tf/keras/layers/Flatten).\n",
    "\n",
    "- **tf.keras.layers.Dense(units= ... , activation='softmax')(F):** given the flattened input F, it returns the output computed using a fully connected layer. You can read the full documentation on [Dense](https://www.tensorflow.org/api_docs/python/tf/keras/layers/Dense).\n",
    "\n",
    "In the last function above (`tf.keras.layers.Dense()`), the fully connected layer automatically initializes weights in the graph and keeps on training them as you train the model. Hence, you did not need to initialize those weights when initializing the parameters.\n",
    "\n",
    "Lastly, before creating the model, you'll need to define the output using the last of the function's compositions (in this example, a Dense layer): \n",
    "\n",
    "- **outputs = tf.keras.layers.Dense(units=6, activation='softmax')(F)**\n",
    "\n",
    "\n",
    "#### Window, kernel, filter, pool\n",
    "\n",
    "The words \"kernel\" and \"filter\" are used to refer to the same thing. The word \"filter\" accounts for the amount of \"kernels\" that will be used in a single convolution layer. \"Pool\" is the name of the operation that takes the max or average value of the kernels. \n",
    "\n",
    "This is why the parameter `pool_size` refers to `kernel_size`, and you use `(f,f)` to refer to the filter size. \n",
    "\n",
    "Pool size and kernel size refer to the same thing in different objects - They refer to the shape of the window where the operation takes place. "
   ]
  },
  {
   "cell_type": "markdown",
   "metadata": {},
   "source": [
    "<a name='ex-2'></a>\n",
    "### Exercise 2 - convolutional_model\n",
    "\n",
    "Implement the `convolutional_model` function below to build the following model: `CONV2D -> RELU -> MAXPOOL -> CONV2D -> RELU -> MAXPOOL -> FLATTEN -> DENSE`. Use the functions above! \n",
    "\n",
    "Also, plug in the following parameters for all the steps:\n",
    "\n",
    " - [Conv2D](https://www.tensorflow.org/api_docs/python/tf/keras/layers/Conv2D): Use 8 4 by 4 filters, stride 1, padding is \"SAME\"\n",
    " - [ReLU](https://www.tensorflow.org/api_docs/python/tf/keras/layers/ReLU)\n",
    " - [MaxPool2D](https://www.tensorflow.org/api_docs/python/tf/keras/layers/MaxPool2D): Use an 8 by 8 filter size and an 8 by 8 stride, padding is \"SAME\"\n",
    " - **Conv2D**: Use 16 2 by 2 filters, stride 1, padding is \"SAME\"\n",
    " - **ReLU**\n",
    " - **MaxPool2D**: Use a 4 by 4 filter size and a 4 by 4 stride, padding is \"SAME\"\n",
    " - [Flatten](https://www.tensorflow.org/api_docs/python/tf/keras/layers/Flatten) the previous output.\n",
    " - Fully-connected ([Dense](https://www.tensorflow.org/api_docs/python/tf/keras/layers/Dense)) layer: Apply a fully connected layer with 6 neurons and a softmax activation. "
   ]
  },
  {
   "cell_type": "code",
   "execution_count": 44,
   "metadata": {
    "deletable": false,
    "nbgrader": {
     "cell_type": "code",
     "checksum": "f58643806aa8380c96225fc8b4c5e7aa",
     "grade": false,
     "grade_id": "cell-dac51744a9e03f51",
     "locked": false,
     "schema_version": 3,
     "solution": true,
     "task": false
    }
   },
   "outputs": [],
   "source": [
    "# GRADED FUNCTION: convolutional_model\n",
    "\n",
    "def convolutional_model(input_shape):\n",
    "    \"\"\"\n",
    "    Implements the forward propagation for the model:\n",
    "    CONV2D -> RELU -> MAXPOOL -> CONV2D -> RELU -> MAXPOOL -> FLATTEN -> DENSE\n",
    "    \n",
    "    Note that for simplicity and grading purposes, you'll hard-code some values\n",
    "    such as the stride and kernel (filter) sizes. \n",
    "    Normally, functions should take these values as function parameters.\n",
    "    \n",
    "    Arguments:\n",
    "    input_img -- input dataset, of shape (input_shape)\n",
    "\n",
    "    Returns:\n",
    "    model -- TF Keras model (object containing the information for the entire training process) \n",
    "    \"\"\"\n",
    "\n",
    "    input_img = tf.keras.Input(shape=input_shape)\n",
    "    ## CONV2D: 8 filters 4x4, stride of 1, padding 'SAME'\n",
    "    Z1 = tf.keras.layers.Conv2D(8, (4,4), strides=(1,1), padding='same')(input_img)\n",
    "    ## RELU\n",
    "    A1 = tf.keras.layers.ReLU()(Z1)\n",
    "    ## MAXPOOL: window 8x8, stride 8, padding 'SAME'\n",
    "    P1 = tf.keras.layers.MaxPool2D((8,8), padding='same', strides=(8,8))(A1)\n",
    "    ## CONV2D: 16 filters 2x2, stride 1, padding 'SAME'\n",
    "    Z2 = tf.keras.layers.Conv2D(16, (2,2), padding='same')(P1)\n",
    "    ## RELU\n",
    "    A2 = tf.keras.layers.ReLU()(Z2)\n",
    "    ## MAXPOOL: window 4x4, stride 4, padding 'SAME'\n",
    "    P2 = tf.keras.layers.MaxPool2D((4,4), padding='same', strides=(4,4))(A2)\n",
    "    ## FLATTEN\n",
    "    F = tf.keras.layers.Flatten()(P2)\n",
    "    ## Dense layer\n",
    "    ## 6 neurons in output layer. Hint: one of the arguments should be \"activation='softmax'\" \n",
    "    outputs = tf.keras.layers.Dense(6, activation='softmax')(F)\n",
    "    # YOUR CODE STARTS HERE\n",
    "    \n",
    "    \n",
    "    # YOUR CODE ENDS HERE\n",
    "    model = tf.keras.Model(inputs=input_img, outputs=outputs)\n",
    "    return model"
   ]
  },
  {
   "cell_type": "code",
   "execution_count": 45,
   "metadata": {
    "deletable": false,
    "editable": false,
    "nbgrader": {
     "cell_type": "code",
     "checksum": "483d626949930a0b0ef20997e7c6ba72",
     "grade": true,
     "grade_id": "cell-45d22e92042174c9",
     "locked": true,
     "points": 10,
     "schema_version": 3,
     "solution": false,
     "task": false
    }
   },
   "outputs": [
    {
     "name": "stdout",
     "output_type": "stream",
     "text": [
      "Model: \"functional_12\"\n",
      "_________________________________________________________________\n",
      "Layer (type)                 Output Shape              Param #   \n",
      "=================================================================\n",
      "input_14 (InputLayer)        [(None, 64, 64, 3)]       0         \n",
      "_________________________________________________________________\n",
      "conv2d_23 (Conv2D)           (None, 64, 64, 8)         392       \n",
      "_________________________________________________________________\n",
      "re_lu_20 (ReLU)              (None, 64, 64, 8)         0         \n",
      "_________________________________________________________________\n",
      "max_pooling2d_17 (MaxPooling (None, 8, 8, 8)           0         \n",
      "_________________________________________________________________\n",
      "conv2d_24 (Conv2D)           (None, 8, 8, 16)          528       \n",
      "_________________________________________________________________\n",
      "re_lu_21 (ReLU)              (None, 8, 8, 16)          0         \n",
      "_________________________________________________________________\n",
      "max_pooling2d_18 (MaxPooling (None, 2, 2, 16)          0         \n",
      "_________________________________________________________________\n",
      "flatten_8 (Flatten)          (None, 64)                0         \n",
      "_________________________________________________________________\n",
      "dense_7 (Dense)              (None, 6)                 390       \n",
      "=================================================================\n",
      "Total params: 1,310\n",
      "Trainable params: 1,310\n",
      "Non-trainable params: 0\n",
      "_________________________________________________________________\n",
      "\u001b[32mAll tests passed!\u001b[0m\n"
     ]
    }
   ],
   "source": [
    "conv_model = convolutional_model((64, 64, 3))\n",
    "conv_model.compile(optimizer='adam',\n",
    "                  loss='categorical_crossentropy',\n",
    "                  metrics=['accuracy'])\n",
    "conv_model.summary()\n",
    "    \n",
    "output = [['InputLayer', [(None, 64, 64, 3)], 0],\n",
    "        ['Conv2D', (None, 64, 64, 8), 392, 'same', 'linear', 'GlorotUniform'],\n",
    "        ['ReLU', (None, 64, 64, 8), 0],\n",
    "        ['MaxPooling2D', (None, 8, 8, 8), 0, (8, 8), (8, 8), 'same'],\n",
    "        ['Conv2D', (None, 8, 8, 16), 528, 'same', 'linear', 'GlorotUniform'],\n",
    "        ['ReLU', (None, 8, 8, 16), 0],\n",
    "        ['MaxPooling2D', (None, 2, 2, 16), 0, (4, 4), (4, 4), 'same'],\n",
    "        ['Flatten', (None, 64), 0],\n",
    "        ['Dense', (None, 6), 390, 'softmax']]\n",
    "    \n",
    "comparator(summary(conv_model), output)"
   ]
  },
  {
   "cell_type": "markdown",
   "metadata": {},
   "source": [
    "Both the Sequential and Functional APIs return a TF Keras model object. The only difference is how inputs are handled inside the object model! "
   ]
  },
  {
   "cell_type": "markdown",
   "metadata": {},
   "source": [
    "<a name='4-4'></a>\n",
    "### 4.4 - Train the Model"
   ]
  },
  {
   "cell_type": "code",
   "execution_count": 46,
   "metadata": {},
   "outputs": [
    {
     "name": "stdout",
     "output_type": "stream",
     "text": [
      "Epoch 1/100\n",
      "10/10 [==============================] - 1s 101ms/step - loss: 1.6838 - accuracy: 0.5000 - val_loss: 1.5973 - val_accuracy: 0.4400\n",
      "Epoch 2/100\n",
      "10/10 [==============================] - 1s 92ms/step - loss: 1.3993 - accuracy: 0.5000 - val_loss: 1.3428 - val_accuracy: 0.4400\n",
      "Epoch 3/100\n",
      "10/10 [==============================] - 1s 100ms/step - loss: 1.1416 - accuracy: 0.5000 - val_loss: 1.0416 - val_accuracy: 0.4400\n",
      "Epoch 4/100\n",
      "10/10 [==============================] - 1s 100ms/step - loss: 0.8795 - accuracy: 0.5100 - val_loss: 0.7742 - val_accuracy: 0.5000\n",
      "Epoch 5/100\n",
      "10/10 [==============================] - 1s 100ms/step - loss: 0.7361 - accuracy: 0.5017 - val_loss: 0.7079 - val_accuracy: 0.5600\n",
      "Epoch 6/100\n",
      "10/10 [==============================] - 1s 100ms/step - loss: 0.6930 - accuracy: 0.5967 - val_loss: 0.7002 - val_accuracy: 0.5133\n",
      "Epoch 7/100\n",
      "10/10 [==============================] - 1s 100ms/step - loss: 0.6814 - accuracy: 0.5583 - val_loss: 0.6922 - val_accuracy: 0.5200\n",
      "Epoch 8/100\n",
      "10/10 [==============================] - 1s 100ms/step - loss: 0.6730 - accuracy: 0.5967 - val_loss: 0.6782 - val_accuracy: 0.6400\n",
      "Epoch 9/100\n",
      "10/10 [==============================] - 1s 100ms/step - loss: 0.6642 - accuracy: 0.6550 - val_loss: 0.6808 - val_accuracy: 0.5733\n",
      "Epoch 10/100\n",
      "10/10 [==============================] - 1s 100ms/step - loss: 0.6600 - accuracy: 0.6567 - val_loss: 0.6761 - val_accuracy: 0.6133\n",
      "Epoch 11/100\n",
      "10/10 [==============================] - 1s 100ms/step - loss: 0.6551 - accuracy: 0.6750 - val_loss: 0.6674 - val_accuracy: 0.6533\n",
      "Epoch 12/100\n",
      "10/10 [==============================] - 1s 100ms/step - loss: 0.6481 - accuracy: 0.7217 - val_loss: 0.6667 - val_accuracy: 0.6333\n",
      "Epoch 13/100\n",
      "10/10 [==============================] - 1s 100ms/step - loss: 0.6432 - accuracy: 0.7267 - val_loss: 0.6608 - val_accuracy: 0.6333\n",
      "Epoch 14/100\n",
      "10/10 [==============================] - 1s 100ms/step - loss: 0.6366 - accuracy: 0.7467 - val_loss: 0.6565 - val_accuracy: 0.6333\n",
      "Epoch 15/100\n",
      "10/10 [==============================] - 1s 99ms/step - loss: 0.6307 - accuracy: 0.7550 - val_loss: 0.6510 - val_accuracy: 0.6533\n",
      "Epoch 16/100\n",
      "10/10 [==============================] - 1s 100ms/step - loss: 0.6243 - accuracy: 0.7633 - val_loss: 0.6494 - val_accuracy: 0.6533\n",
      "Epoch 17/100\n",
      "10/10 [==============================] - 1s 99ms/step - loss: 0.6187 - accuracy: 0.7633 - val_loss: 0.6455 - val_accuracy: 0.6467\n",
      "Epoch 18/100\n",
      "10/10 [==============================] - 1s 100ms/step - loss: 0.6122 - accuracy: 0.7633 - val_loss: 0.6418 - val_accuracy: 0.6467\n",
      "Epoch 19/100\n",
      "10/10 [==============================] - 1s 92ms/step - loss: 0.6057 - accuracy: 0.7667 - val_loss: 0.6386 - val_accuracy: 0.6467\n",
      "Epoch 20/100\n",
      "10/10 [==============================] - 1s 100ms/step - loss: 0.5991 - accuracy: 0.7717 - val_loss: 0.6352 - val_accuracy: 0.6467\n",
      "Epoch 21/100\n",
      "10/10 [==============================] - 1s 100ms/step - loss: 0.5923 - accuracy: 0.7717 - val_loss: 0.6325 - val_accuracy: 0.6467\n",
      "Epoch 22/100\n",
      "10/10 [==============================] - 1s 100ms/step - loss: 0.5852 - accuracy: 0.7717 - val_loss: 0.6298 - val_accuracy: 0.6400\n",
      "Epoch 23/100\n",
      "10/10 [==============================] - 1s 101ms/step - loss: 0.5780 - accuracy: 0.7750 - val_loss: 0.6260 - val_accuracy: 0.6400\n",
      "Epoch 24/100\n",
      "10/10 [==============================] - 1s 101ms/step - loss: 0.5703 - accuracy: 0.7800 - val_loss: 0.6209 - val_accuracy: 0.6467\n",
      "Epoch 25/100\n",
      "10/10 [==============================] - 1s 100ms/step - loss: 0.5623 - accuracy: 0.7900 - val_loss: 0.6160 - val_accuracy: 0.6600\n",
      "Epoch 26/100\n",
      "10/10 [==============================] - 1s 100ms/step - loss: 0.5547 - accuracy: 0.7833 - val_loss: 0.6143 - val_accuracy: 0.6533\n",
      "Epoch 27/100\n",
      "10/10 [==============================] - 1s 109ms/step - loss: 0.5475 - accuracy: 0.7900 - val_loss: 0.6108 - val_accuracy: 0.6533\n",
      "Epoch 28/100\n",
      "10/10 [==============================] - 1s 100ms/step - loss: 0.5405 - accuracy: 0.7867 - val_loss: 0.6087 - val_accuracy: 0.6533\n",
      "Epoch 29/100\n",
      "10/10 [==============================] - 1s 99ms/step - loss: 0.5339 - accuracy: 0.7933 - val_loss: 0.6060 - val_accuracy: 0.6600\n",
      "Epoch 30/100\n",
      "10/10 [==============================] - 1s 100ms/step - loss: 0.5273 - accuracy: 0.7933 - val_loss: 0.6021 - val_accuracy: 0.6733\n",
      "Epoch 31/100\n",
      "10/10 [==============================] - 1s 100ms/step - loss: 0.5206 - accuracy: 0.8000 - val_loss: 0.5970 - val_accuracy: 0.6867\n",
      "Epoch 32/100\n",
      "10/10 [==============================] - 1s 101ms/step - loss: 0.5137 - accuracy: 0.8100 - val_loss: 0.5915 - val_accuracy: 0.7000\n",
      "Epoch 33/100\n",
      "10/10 [==============================] - 1s 100ms/step - loss: 0.5068 - accuracy: 0.8117 - val_loss: 0.5864 - val_accuracy: 0.7000\n",
      "Epoch 34/100\n",
      "10/10 [==============================] - 1s 100ms/step - loss: 0.4997 - accuracy: 0.8133 - val_loss: 0.5816 - val_accuracy: 0.7067\n",
      "Epoch 35/100\n",
      "10/10 [==============================] - 1s 109ms/step - loss: 0.4934 - accuracy: 0.8117 - val_loss: 0.5792 - val_accuracy: 0.7133\n",
      "Epoch 36/100\n",
      "10/10 [==============================] - 1s 100ms/step - loss: 0.4871 - accuracy: 0.8150 - val_loss: 0.5739 - val_accuracy: 0.7200\n",
      "Epoch 37/100\n",
      "10/10 [==============================] - 1s 101ms/step - loss: 0.4805 - accuracy: 0.8150 - val_loss: 0.5712 - val_accuracy: 0.7200\n",
      "Epoch 38/100\n",
      "10/10 [==============================] - 1s 100ms/step - loss: 0.4744 - accuracy: 0.8183 - val_loss: 0.5672 - val_accuracy: 0.7267\n",
      "Epoch 39/100\n",
      "10/10 [==============================] - 1s 100ms/step - loss: 0.4680 - accuracy: 0.8217 - val_loss: 0.5635 - val_accuracy: 0.7267\n",
      "Epoch 40/100\n",
      "10/10 [==============================] - 1s 100ms/step - loss: 0.4618 - accuracy: 0.8233 - val_loss: 0.5595 - val_accuracy: 0.7267\n",
      "Epoch 41/100\n",
      "10/10 [==============================] - 1s 100ms/step - loss: 0.4555 - accuracy: 0.8283 - val_loss: 0.5557 - val_accuracy: 0.7267\n",
      "Epoch 42/100\n",
      "10/10 [==============================] - 1s 100ms/step - loss: 0.4495 - accuracy: 0.8317 - val_loss: 0.5527 - val_accuracy: 0.7333\n",
      "Epoch 43/100\n",
      "10/10 [==============================] - 1s 100ms/step - loss: 0.4435 - accuracy: 0.8333 - val_loss: 0.5482 - val_accuracy: 0.7333\n",
      "Epoch 44/100\n",
      "10/10 [==============================] - 1s 100ms/step - loss: 0.4374 - accuracy: 0.8417 - val_loss: 0.5443 - val_accuracy: 0.7333\n",
      "Epoch 45/100\n",
      "10/10 [==============================] - 1s 101ms/step - loss: 0.4314 - accuracy: 0.8417 - val_loss: 0.5405 - val_accuracy: 0.7400\n",
      "Epoch 46/100\n",
      "10/10 [==============================] - 1s 109ms/step - loss: 0.4257 - accuracy: 0.8417 - val_loss: 0.5375 - val_accuracy: 0.7400\n",
      "Epoch 47/100\n",
      "10/10 [==============================] - 1s 100ms/step - loss: 0.4202 - accuracy: 0.8483 - val_loss: 0.5343 - val_accuracy: 0.7400\n",
      "Epoch 48/100\n",
      "10/10 [==============================] - 1s 100ms/step - loss: 0.4145 - accuracy: 0.8517 - val_loss: 0.5315 - val_accuracy: 0.7400\n",
      "Epoch 49/100\n",
      "10/10 [==============================] - 1s 100ms/step - loss: 0.4090 - accuracy: 0.8567 - val_loss: 0.5275 - val_accuracy: 0.7400\n",
      "Epoch 50/100\n",
      "10/10 [==============================] - 1s 100ms/step - loss: 0.4034 - accuracy: 0.8600 - val_loss: 0.5241 - val_accuracy: 0.7400\n",
      "Epoch 51/100\n",
      "10/10 [==============================] - 1s 100ms/step - loss: 0.3980 - accuracy: 0.8600 - val_loss: 0.5210 - val_accuracy: 0.7467\n",
      "Epoch 52/100\n",
      "10/10 [==============================] - 1s 100ms/step - loss: 0.3926 - accuracy: 0.8633 - val_loss: 0.5183 - val_accuracy: 0.7600\n",
      "Epoch 53/100\n",
      "10/10 [==============================] - 1s 100ms/step - loss: 0.3875 - accuracy: 0.8633 - val_loss: 0.5152 - val_accuracy: 0.7600\n",
      "Epoch 54/100\n",
      "10/10 [==============================] - 1s 91ms/step - loss: 0.3827 - accuracy: 0.8667 - val_loss: 0.5129 - val_accuracy: 0.7600\n",
      "Epoch 55/100\n",
      "10/10 [==============================] - 1s 100ms/step - loss: 0.3778 - accuracy: 0.8650 - val_loss: 0.5079 - val_accuracy: 0.7733\n",
      "Epoch 56/100\n",
      "10/10 [==============================] - 1s 100ms/step - loss: 0.3727 - accuracy: 0.8667 - val_loss: 0.5065 - val_accuracy: 0.7733\n",
      "Epoch 57/100\n",
      "10/10 [==============================] - 1s 100ms/step - loss: 0.3683 - accuracy: 0.8683 - val_loss: 0.5011 - val_accuracy: 0.7667\n"
     ]
    },
    {
     "name": "stdout",
     "output_type": "stream",
     "text": [
      "Epoch 58/100\n",
      "10/10 [==============================] - 1s 100ms/step - loss: 0.3633 - accuracy: 0.8733 - val_loss: 0.5004 - val_accuracy: 0.7667\n",
      "Epoch 59/100\n",
      "10/10 [==============================] - 1s 109ms/step - loss: 0.3591 - accuracy: 0.8700 - val_loss: 0.4949 - val_accuracy: 0.7667\n",
      "Epoch 60/100\n",
      "10/10 [==============================] - 1s 99ms/step - loss: 0.3541 - accuracy: 0.8733 - val_loss: 0.4942 - val_accuracy: 0.7667\n",
      "Epoch 61/100\n",
      "10/10 [==============================] - 1s 100ms/step - loss: 0.3502 - accuracy: 0.8750 - val_loss: 0.4892 - val_accuracy: 0.7667\n",
      "Epoch 62/100\n",
      "10/10 [==============================] - 1s 100ms/step - loss: 0.3455 - accuracy: 0.8767 - val_loss: 0.4901 - val_accuracy: 0.7667\n",
      "Epoch 63/100\n",
      "10/10 [==============================] - 1s 100ms/step - loss: 0.3420 - accuracy: 0.8750 - val_loss: 0.4843 - val_accuracy: 0.7733\n",
      "Epoch 64/100\n",
      "10/10 [==============================] - 1s 99ms/step - loss: 0.3373 - accuracy: 0.8800 - val_loss: 0.4851 - val_accuracy: 0.7733\n",
      "Epoch 65/100\n",
      "10/10 [==============================] - 1s 100ms/step - loss: 0.3341 - accuracy: 0.8800 - val_loss: 0.4794 - val_accuracy: 0.7733\n",
      "Epoch 66/100\n",
      "10/10 [==============================] - 1s 99ms/step - loss: 0.3293 - accuracy: 0.8817 - val_loss: 0.4791 - val_accuracy: 0.7733\n",
      "Epoch 67/100\n",
      "10/10 [==============================] - 1s 100ms/step - loss: 0.3261 - accuracy: 0.8850 - val_loss: 0.4732 - val_accuracy: 0.7733\n",
      "Epoch 68/100\n",
      "10/10 [==============================] - 1s 100ms/step - loss: 0.3215 - accuracy: 0.8817 - val_loss: 0.4725 - val_accuracy: 0.7733\n",
      "Epoch 69/100\n",
      "10/10 [==============================] - 1s 100ms/step - loss: 0.3180 - accuracy: 0.8883 - val_loss: 0.4657 - val_accuracy: 0.7733\n",
      "Epoch 70/100\n",
      "10/10 [==============================] - 1s 100ms/step - loss: 0.3134 - accuracy: 0.8833 - val_loss: 0.4651 - val_accuracy: 0.7667\n",
      "Epoch 71/100\n",
      "10/10 [==============================] - 1s 100ms/step - loss: 0.3105 - accuracy: 0.8917 - val_loss: 0.4602 - val_accuracy: 0.7667\n",
      "Epoch 72/100\n",
      "10/10 [==============================] - 1s 100ms/step - loss: 0.3068 - accuracy: 0.8900 - val_loss: 0.4598 - val_accuracy: 0.7867\n",
      "Epoch 73/100\n",
      "10/10 [==============================] - 1s 100ms/step - loss: 0.3037 - accuracy: 0.8950 - val_loss: 0.4532 - val_accuracy: 0.7733\n",
      "Epoch 74/100\n",
      "10/10 [==============================] - 1s 100ms/step - loss: 0.2992 - accuracy: 0.8950 - val_loss: 0.4529 - val_accuracy: 0.7733\n",
      "Epoch 75/100\n",
      "10/10 [==============================] - 1s 101ms/step - loss: 0.2958 - accuracy: 0.9033 - val_loss: 0.4465 - val_accuracy: 0.7800\n",
      "Epoch 76/100\n",
      "10/10 [==============================] - 1s 100ms/step - loss: 0.2915 - accuracy: 0.8983 - val_loss: 0.4447 - val_accuracy: 0.7800\n",
      "Epoch 77/100\n",
      "10/10 [==============================] - 1s 100ms/step - loss: 0.2885 - accuracy: 0.9050 - val_loss: 0.4402 - val_accuracy: 0.7800\n",
      "Epoch 78/100\n",
      "10/10 [==============================] - 1s 101ms/step - loss: 0.2849 - accuracy: 0.9000 - val_loss: 0.4405 - val_accuracy: 0.7867\n",
      "Epoch 79/100\n",
      "10/10 [==============================] - 1s 100ms/step - loss: 0.2821 - accuracy: 0.9050 - val_loss: 0.4346 - val_accuracy: 0.7800\n",
      "Epoch 80/100\n",
      "10/10 [==============================] - 1s 100ms/step - loss: 0.2784 - accuracy: 0.9033 - val_loss: 0.4345 - val_accuracy: 0.7800\n",
      "Epoch 81/100\n",
      "10/10 [==============================] - 1s 100ms/step - loss: 0.2758 - accuracy: 0.9083 - val_loss: 0.4303 - val_accuracy: 0.7800\n",
      "Epoch 82/100\n",
      "10/10 [==============================] - 1s 101ms/step - loss: 0.2723 - accuracy: 0.9067 - val_loss: 0.4295 - val_accuracy: 0.7733\n",
      "Epoch 83/100\n",
      "10/10 [==============================] - 1s 100ms/step - loss: 0.2698 - accuracy: 0.9100 - val_loss: 0.4247 - val_accuracy: 0.7800\n",
      "Epoch 84/100\n",
      "10/10 [==============================] - 1s 109ms/step - loss: 0.2665 - accuracy: 0.9117 - val_loss: 0.4247 - val_accuracy: 0.7933\n",
      "Epoch 85/100\n",
      "10/10 [==============================] - 1s 100ms/step - loss: 0.2642 - accuracy: 0.9117 - val_loss: 0.4199 - val_accuracy: 0.7933\n",
      "Epoch 86/100\n",
      "10/10 [==============================] - 1s 101ms/step - loss: 0.2610 - accuracy: 0.9133 - val_loss: 0.4187 - val_accuracy: 0.7933\n",
      "Epoch 87/100\n",
      "10/10 [==============================] - 1s 100ms/step - loss: 0.2588 - accuracy: 0.9150 - val_loss: 0.4146 - val_accuracy: 0.7933\n",
      "Epoch 88/100\n",
      "10/10 [==============================] - 1s 100ms/step - loss: 0.2553 - accuracy: 0.9133 - val_loss: 0.4131 - val_accuracy: 0.7933\n",
      "Epoch 89/100\n",
      "10/10 [==============================] - 1s 101ms/step - loss: 0.2527 - accuracy: 0.9133 - val_loss: 0.4100 - val_accuracy: 0.7933\n",
      "Epoch 90/100\n",
      "10/10 [==============================] - 1s 100ms/step - loss: 0.2501 - accuracy: 0.9167 - val_loss: 0.4075 - val_accuracy: 0.7933\n",
      "Epoch 91/100\n",
      "10/10 [==============================] - 1s 100ms/step - loss: 0.2475 - accuracy: 0.9183 - val_loss: 0.4044 - val_accuracy: 0.8000\n",
      "Epoch 92/100\n",
      "10/10 [==============================] - 1s 100ms/step - loss: 0.2449 - accuracy: 0.9183 - val_loss: 0.4022 - val_accuracy: 0.8000\n",
      "Epoch 93/100\n",
      "10/10 [==============================] - 1s 100ms/step - loss: 0.2423 - accuracy: 0.9183 - val_loss: 0.4003 - val_accuracy: 0.8067\n",
      "Epoch 94/100\n",
      "10/10 [==============================] - 1s 100ms/step - loss: 0.2399 - accuracy: 0.9183 - val_loss: 0.3970 - val_accuracy: 0.8067\n",
      "Epoch 95/100\n",
      "10/10 [==============================] - 1s 100ms/step - loss: 0.2375 - accuracy: 0.9183 - val_loss: 0.3958 - val_accuracy: 0.8067\n",
      "Epoch 96/100\n",
      "10/10 [==============================] - 1s 101ms/step - loss: 0.2352 - accuracy: 0.9183 - val_loss: 0.3934 - val_accuracy: 0.8067\n",
      "Epoch 97/100\n",
      "10/10 [==============================] - 1s 100ms/step - loss: 0.2330 - accuracy: 0.9217 - val_loss: 0.3915 - val_accuracy: 0.8067\n",
      "Epoch 98/100\n",
      "10/10 [==============================] - 1s 99ms/step - loss: 0.2306 - accuracy: 0.9217 - val_loss: 0.3891 - val_accuracy: 0.8067\n",
      "Epoch 99/100\n",
      "10/10 [==============================] - 1s 109ms/step - loss: 0.2284 - accuracy: 0.9233 - val_loss: 0.3872 - val_accuracy: 0.8133\n",
      "Epoch 100/100\n",
      "10/10 [==============================] - 1s 99ms/step - loss: 0.2259 - accuracy: 0.9233 - val_loss: 0.3835 - val_accuracy: 0.8200\n"
     ]
    }
   ],
   "source": [
    "train_dataset = tf.data.Dataset.from_tensor_slices((X_train, Y_train)).batch(64)\n",
    "test_dataset = tf.data.Dataset.from_tensor_slices((X_test, Y_test)).batch(64)\n",
    "history = conv_model.fit(train_dataset, epochs=100, validation_data=test_dataset)"
   ]
  },
  {
   "cell_type": "markdown",
   "metadata": {},
   "source": [
    "<a name='5'></a>\n",
    "## 5 - History Object \n",
    "\n",
    "The history object is an output of the `.fit()` operation, and provides a record of all the loss and metric values in memory. It's stored as a dictionary that you can retrieve at `history.history`: "
   ]
  },
  {
   "cell_type": "code",
   "execution_count": 47,
   "metadata": {},
   "outputs": [
    {
     "data": {
      "text/plain": [
       "{'loss': [1.6837654113769531,\n",
       "  1.3992633819580078,\n",
       "  1.1416184902191162,\n",
       "  0.8794567584991455,\n",
       "  0.7360655069351196,\n",
       "  0.6930156946182251,\n",
       "  0.6814459562301636,\n",
       "  0.672953188419342,\n",
       "  0.6642044186592102,\n",
       "  0.6599922776222229,\n",
       "  0.6551192402839661,\n",
       "  0.6481449604034424,\n",
       "  0.6432186961174011,\n",
       "  0.636596143245697,\n",
       "  0.6306798458099365,\n",
       "  0.6243220567703247,\n",
       "  0.6187334656715393,\n",
       "  0.6122099757194519,\n",
       "  0.6057348251342773,\n",
       "  0.5991345047950745,\n",
       "  0.5922837257385254,\n",
       "  0.5851922631263733,\n",
       "  0.5780386924743652,\n",
       "  0.5703172087669373,\n",
       "  0.562317967414856,\n",
       "  0.5546521544456482,\n",
       "  0.5475394129753113,\n",
       "  0.5404598712921143,\n",
       "  0.5338550806045532,\n",
       "  0.5272921919822693,\n",
       "  0.5206103324890137,\n",
       "  0.5136519074440002,\n",
       "  0.5067798495292664,\n",
       "  0.499734491109848,\n",
       "  0.4933525621891022,\n",
       "  0.4870528280735016,\n",
       "  0.4805147349834442,\n",
       "  0.4743632376194,\n",
       "  0.46797820925712585,\n",
       "  0.4617851674556732,\n",
       "  0.45545247197151184,\n",
       "  0.4494613707065582,\n",
       "  0.44353994727134705,\n",
       "  0.43743976950645447,\n",
       "  0.431425541639328,\n",
       "  0.4257395267486572,\n",
       "  0.42019855976104736,\n",
       "  0.4145292043685913,\n",
       "  0.40898266434669495,\n",
       "  0.4033524692058563,\n",
       "  0.3980277180671692,\n",
       "  0.392643541097641,\n",
       "  0.38748276233673096,\n",
       "  0.3827032744884491,\n",
       "  0.37779203057289124,\n",
       "  0.37268635630607605,\n",
       "  0.36827269196510315,\n",
       "  0.36328136920928955,\n",
       "  0.3591069281101227,\n",
       "  0.3541005849838257,\n",
       "  0.3502124547958374,\n",
       "  0.3454705774784088,\n",
       "  0.34197452664375305,\n",
       "  0.3372983932495117,\n",
       "  0.33406561613082886,\n",
       "  0.3293396532535553,\n",
       "  0.32608935236930847,\n",
       "  0.3214823305606842,\n",
       "  0.3180369436740875,\n",
       "  0.31338587403297424,\n",
       "  0.3104667365550995,\n",
       "  0.30683767795562744,\n",
       "  0.3036707043647766,\n",
       "  0.29924026131629944,\n",
       "  0.29577112197875977,\n",
       "  0.29153522849082947,\n",
       "  0.28850218653678894,\n",
       "  0.2849059998989105,\n",
       "  0.2820882797241211,\n",
       "  0.2784263491630554,\n",
       "  0.2758348882198334,\n",
       "  0.2723313570022583,\n",
       "  0.26983997225761414,\n",
       "  0.26647910475730896,\n",
       "  0.2642229199409485,\n",
       "  0.2609686255455017,\n",
       "  0.2587602734565735,\n",
       "  0.2553272247314453,\n",
       "  0.25274762511253357,\n",
       "  0.25009071826934814,\n",
       "  0.24746856093406677,\n",
       "  0.24489982426166534,\n",
       "  0.24232600629329681,\n",
       "  0.23993830382823944,\n",
       "  0.23749582469463348,\n",
       "  0.23515111207962036,\n",
       "  0.2329799085855484,\n",
       "  0.23055417835712433,\n",
       "  0.22841067612171173,\n",
       "  0.22587567567825317],\n",
       " 'accuracy': [0.5,\n",
       "  0.5,\n",
       "  0.5,\n",
       "  0.5099999904632568,\n",
       "  0.5016666650772095,\n",
       "  0.596666693687439,\n",
       "  0.5583333373069763,\n",
       "  0.596666693687439,\n",
       "  0.6549999713897705,\n",
       "  0.6566666960716248,\n",
       "  0.675000011920929,\n",
       "  0.721666693687439,\n",
       "  0.7266666889190674,\n",
       "  0.746666669845581,\n",
       "  0.7549999952316284,\n",
       "  0.7633333206176758,\n",
       "  0.7633333206176758,\n",
       "  0.7633333206176758,\n",
       "  0.7666666507720947,\n",
       "  0.7716666460037231,\n",
       "  0.7716666460037231,\n",
       "  0.7716666460037231,\n",
       "  0.7749999761581421,\n",
       "  0.7799999713897705,\n",
       "  0.7900000214576721,\n",
       "  0.7833333611488342,\n",
       "  0.7900000214576721,\n",
       "  0.7866666913032532,\n",
       "  0.7933333516120911,\n",
       "  0.7933333516120911,\n",
       "  0.800000011920929,\n",
       "  0.8100000023841858,\n",
       "  0.8116666674613953,\n",
       "  0.8133333325386047,\n",
       "  0.8116666674613953,\n",
       "  0.8149999976158142,\n",
       "  0.8149999976158142,\n",
       "  0.8183333277702332,\n",
       "  0.8216666579246521,\n",
       "  0.8233333230018616,\n",
       "  0.82833331823349,\n",
       "  0.8316666483879089,\n",
       "  0.8333333134651184,\n",
       "  0.8416666388511658,\n",
       "  0.8416666388511658,\n",
       "  0.8416666388511658,\n",
       "  0.8483333587646484,\n",
       "  0.8516666889190674,\n",
       "  0.8566666841506958,\n",
       "  0.8600000143051147,\n",
       "  0.8600000143051147,\n",
       "  0.8633333444595337,\n",
       "  0.8633333444595337,\n",
       "  0.8666666746139526,\n",
       "  0.8650000095367432,\n",
       "  0.8666666746139526,\n",
       "  0.8683333396911621,\n",
       "  0.8733333349227905,\n",
       "  0.8700000047683716,\n",
       "  0.8733333349227905,\n",
       "  0.875,\n",
       "  0.8766666650772095,\n",
       "  0.875,\n",
       "  0.8799999952316284,\n",
       "  0.8799999952316284,\n",
       "  0.8816666603088379,\n",
       "  0.8849999904632568,\n",
       "  0.8816666603088379,\n",
       "  0.8883333206176758,\n",
       "  0.8833333253860474,\n",
       "  0.8916666507720947,\n",
       "  0.8899999856948853,\n",
       "  0.8949999809265137,\n",
       "  0.8949999809265137,\n",
       "  0.903333306312561,\n",
       "  0.8983333110809326,\n",
       "  0.9049999713897705,\n",
       "  0.8999999761581421,\n",
       "  0.9049999713897705,\n",
       "  0.903333306312561,\n",
       "  0.9083333611488342,\n",
       "  0.9066666960716248,\n",
       "  0.9100000262260437,\n",
       "  0.9116666913032532,\n",
       "  0.9116666913032532,\n",
       "  0.9133333563804626,\n",
       "  0.9150000214576721,\n",
       "  0.9133333563804626,\n",
       "  0.9133333563804626,\n",
       "  0.9166666865348816,\n",
       "  0.9183333516120911,\n",
       "  0.9183333516120911,\n",
       "  0.9183333516120911,\n",
       "  0.9183333516120911,\n",
       "  0.9183333516120911,\n",
       "  0.9183333516120911,\n",
       "  0.92166668176651,\n",
       "  0.92166668176651,\n",
       "  0.9233333468437195,\n",
       "  0.9233333468437195],\n",
       " 'val_loss': [1.5972542762756348,\n",
       "  1.3428105115890503,\n",
       "  1.0416165590286255,\n",
       "  0.7742205858230591,\n",
       "  0.7079024314880371,\n",
       "  0.7001510262489319,\n",
       "  0.6921604871749878,\n",
       "  0.6781724691390991,\n",
       "  0.6808062791824341,\n",
       "  0.676059901714325,\n",
       "  0.667404055595398,\n",
       "  0.666674017906189,\n",
       "  0.6608152389526367,\n",
       "  0.6564972996711731,\n",
       "  0.650977611541748,\n",
       "  0.6493794918060303,\n",
       "  0.6454898715019226,\n",
       "  0.6418441534042358,\n",
       "  0.6386381983757019,\n",
       "  0.635219931602478,\n",
       "  0.6324656009674072,\n",
       "  0.6297691464424133,\n",
       "  0.6260243654251099,\n",
       "  0.6208693385124207,\n",
       "  0.6160064339637756,\n",
       "  0.6142728924751282,\n",
       "  0.610761284828186,\n",
       "  0.6086717844009399,\n",
       "  0.6059641242027283,\n",
       "  0.6020540595054626,\n",
       "  0.5969944000244141,\n",
       "  0.5915169715881348,\n",
       "  0.5864322185516357,\n",
       "  0.5816066861152649,\n",
       "  0.5791891813278198,\n",
       "  0.5738564133644104,\n",
       "  0.571203887462616,\n",
       "  0.5671997666358948,\n",
       "  0.56353360414505,\n",
       "  0.5595336556434631,\n",
       "  0.5557020306587219,\n",
       "  0.5527487993240356,\n",
       "  0.5482341647148132,\n",
       "  0.5443477034568787,\n",
       "  0.5404667258262634,\n",
       "  0.5375059843063354,\n",
       "  0.5342848896980286,\n",
       "  0.531513512134552,\n",
       "  0.5275397896766663,\n",
       "  0.5241469740867615,\n",
       "  0.5210350155830383,\n",
       "  0.5182816386222839,\n",
       "  0.5151715874671936,\n",
       "  0.5128799080848694,\n",
       "  0.507866621017456,\n",
       "  0.5065486431121826,\n",
       "  0.5011315941810608,\n",
       "  0.5004283785820007,\n",
       "  0.49486103653907776,\n",
       "  0.4941519796848297,\n",
       "  0.48921629786491394,\n",
       "  0.49009978771209717,\n",
       "  0.4842630624771118,\n",
       "  0.48506173491477966,\n",
       "  0.47943592071533203,\n",
       "  0.4791392982006073,\n",
       "  0.47319698333740234,\n",
       "  0.4724878966808319,\n",
       "  0.46573299169540405,\n",
       "  0.465090274810791,\n",
       "  0.46022528409957886,\n",
       "  0.45976465940475464,\n",
       "  0.453239381313324,\n",
       "  0.4528944790363312,\n",
       "  0.44650959968566895,\n",
       "  0.4447318911552429,\n",
       "  0.4401572644710541,\n",
       "  0.4405260682106018,\n",
       "  0.4346039295196533,\n",
       "  0.434484601020813,\n",
       "  0.4302644729614258,\n",
       "  0.42948055267333984,\n",
       "  0.4246651530265808,\n",
       "  0.42472898960113525,\n",
       "  0.4198762774467468,\n",
       "  0.41865357756614685,\n",
       "  0.4145600497722626,\n",
       "  0.41307705640792847,\n",
       "  0.4100198745727539,\n",
       "  0.40749314427375793,\n",
       "  0.4044472873210907,\n",
       "  0.40222227573394775,\n",
       "  0.40025946497917175,\n",
       "  0.39699962735176086,\n",
       "  0.3957509696483612,\n",
       "  0.39342567324638367,\n",
       "  0.3915112316608429,\n",
       "  0.3890787959098816,\n",
       "  0.3872103989124298,\n",
       "  0.38346028327941895],\n",
       " 'val_accuracy': [0.4399999976158142,\n",
       "  0.4399999976158142,\n",
       "  0.4399999976158142,\n",
       "  0.5,\n",
       "  0.5600000023841858,\n",
       "  0.5133333206176758,\n",
       "  0.5199999809265137,\n",
       "  0.6399999856948853,\n",
       "  0.5733333230018616,\n",
       "  0.6133333444595337,\n",
       "  0.653333306312561,\n",
       "  0.6333333253860474,\n",
       "  0.6333333253860474,\n",
       "  0.6333333253860474,\n",
       "  0.653333306312561,\n",
       "  0.653333306312561,\n",
       "  0.6466666460037231,\n",
       "  0.6466666460037231,\n",
       "  0.6466666460037231,\n",
       "  0.6466666460037231,\n",
       "  0.6466666460037231,\n",
       "  0.6399999856948853,\n",
       "  0.6399999856948853,\n",
       "  0.6466666460037231,\n",
       "  0.6600000262260437,\n",
       "  0.653333306312561,\n",
       "  0.653333306312561,\n",
       "  0.653333306312561,\n",
       "  0.6600000262260437,\n",
       "  0.6733333468437195,\n",
       "  0.6866666674613953,\n",
       "  0.699999988079071,\n",
       "  0.699999988079071,\n",
       "  0.7066666483879089,\n",
       "  0.7133333086967468,\n",
       "  0.7200000286102295,\n",
       "  0.7200000286102295,\n",
       "  0.7266666889190674,\n",
       "  0.7266666889190674,\n",
       "  0.7266666889190674,\n",
       "  0.7266666889190674,\n",
       "  0.7333333492279053,\n",
       "  0.7333333492279053,\n",
       "  0.7333333492279053,\n",
       "  0.7400000095367432,\n",
       "  0.7400000095367432,\n",
       "  0.7400000095367432,\n",
       "  0.7400000095367432,\n",
       "  0.7400000095367432,\n",
       "  0.7400000095367432,\n",
       "  0.746666669845581,\n",
       "  0.7599999904632568,\n",
       "  0.7599999904632568,\n",
       "  0.7599999904632568,\n",
       "  0.7733333110809326,\n",
       "  0.7733333110809326,\n",
       "  0.7666666507720947,\n",
       "  0.7666666507720947,\n",
       "  0.7666666507720947,\n",
       "  0.7666666507720947,\n",
       "  0.7666666507720947,\n",
       "  0.7666666507720947,\n",
       "  0.7733333110809326,\n",
       "  0.7733333110809326,\n",
       "  0.7733333110809326,\n",
       "  0.7733333110809326,\n",
       "  0.7733333110809326,\n",
       "  0.7733333110809326,\n",
       "  0.7733333110809326,\n",
       "  0.7666666507720947,\n",
       "  0.7666666507720947,\n",
       "  0.7866666913032532,\n",
       "  0.7733333110809326,\n",
       "  0.7733333110809326,\n",
       "  0.7799999713897705,\n",
       "  0.7799999713897705,\n",
       "  0.7799999713897705,\n",
       "  0.7866666913032532,\n",
       "  0.7799999713897705,\n",
       "  0.7799999713897705,\n",
       "  0.7799999713897705,\n",
       "  0.7733333110809326,\n",
       "  0.7799999713897705,\n",
       "  0.7933333516120911,\n",
       "  0.7933333516120911,\n",
       "  0.7933333516120911,\n",
       "  0.7933333516120911,\n",
       "  0.7933333516120911,\n",
       "  0.7933333516120911,\n",
       "  0.7933333516120911,\n",
       "  0.800000011920929,\n",
       "  0.800000011920929,\n",
       "  0.8066666722297668,\n",
       "  0.8066666722297668,\n",
       "  0.8066666722297668,\n",
       "  0.8066666722297668,\n",
       "  0.8066666722297668,\n",
       "  0.8066666722297668,\n",
       "  0.8133333325386047,\n",
       "  0.8199999928474426]}"
      ]
     },
     "execution_count": 47,
     "metadata": {},
     "output_type": "execute_result"
    }
   ],
   "source": [
    "history.history"
   ]
  },
  {
   "cell_type": "markdown",
   "metadata": {},
   "source": [
    "Now visualize the loss over time using `history.history`: "
   ]
  },
  {
   "cell_type": "code",
   "execution_count": 48,
   "metadata": {},
   "outputs": [
    {
     "data": {
      "text/plain": [
       "[Text(0, 0.5, 'Accuracy'), Text(0.5, 0, 'Epoch')]"
      ]
     },
     "execution_count": 48,
     "metadata": {},
     "output_type": "execute_result"
    },
    {
     "data": {
      "image/png": "[encoded data removed]",
      "text/plain": [
       "<Figure size 864x576 with 1 Axes>"
      ]
     },
     "metadata": {
      "needs_background": "light"
     },
     "output_type": "display_data"
    },
    {
     "data": {
      "image/png": "[encoded data removed]",
      "text/plain": [
       "<Figure size 864x576 with 1 Axes>"
      ]
     },
     "metadata": {
      "needs_background": "light"
     },
     "output_type": "display_data"
    }
   ],
   "source": [
    "# The history.history[\"loss\"] entry is a dictionary with as many values as epochs that the\n",
    "# model was trained on. \n",
    "df_loss_acc = pd.DataFrame(history.history)\n",
    "df_loss= df_loss_acc[['loss','val_loss']]\n",
    "df_loss.rename(columns={'loss':'train','val_loss':'validation'},inplace=True)\n",
    "df_acc= df_loss_acc[['accuracy','val_accuracy']]\n",
    "df_acc.rename(columns={'accuracy':'train','val_accuracy':'validation'},inplace=True)\n",
    "df_loss.plot(title='Model loss',figsize=(12,8)).set(xlabel='Epoch',ylabel='Loss')\n",
    "df_acc.plot(title='Model Accuracy',figsize=(12,8)).set(xlabel='Epoch',ylabel='Accuracy')"
   ]
  },
  {
   "cell_type": "markdown",
   "metadata": {},
   "source": [
    "**Congratulations**! You've finished the assignment and built two models: One that recognizes  smiles, and another that recognizes SIGN language with almost 80% accuracy on the test set. In addition to that, you now also understand the applications of two Keras APIs: Sequential and Functional. Nicely done! \n",
    "\n",
    "By now, you know a bit about how the Functional API works and may have glimpsed the possibilities. In your next assignment, you'll really get a feel for its power when you get the opportunity to build a very deep ConvNet, using ResNets! "
   ]
  },
  {
   "cell_type": "markdown",
   "metadata": {},
   "source": [
    "<a name='6'></a>\n",
    "## 6 - Bibliography\n",
    "\n",
    "You're always encouraged to read the official documentation. To that end, you can find the docs for the Sequential and Functional APIs here: \n",
    "\n",
    "https://www.tensorflow.org/guide/keras/sequential_model\n",
    "\n",
    "https://www.tensorflow.org/guide/keras/functional"
   ]
  }
 ],
 "metadata": {
  "coursera": {
   "course_slug": "convolutional-neural-networks",
   "graded_item_id": "bwbJV",
   "launcher_item_id": "0TkXB"
  },
  "kernelspec": {
   "display_name": "Python 3",
   "language": "python",
   "name": "python3"
  },
  "language_info": {
   "codemirror_mode": {
    "name": "ipython",
    "version": 3
   },
   "file_extension": ".py",
   "mimetype": "text/x-python",
   "name": "python",
   "nbconvert_exporter": "python",
   "pygments_lexer": "ipython3",
   "version": "3.7.6"
  }
 },
 "nbformat": 4,
 "nbformat_minor": 2
}
